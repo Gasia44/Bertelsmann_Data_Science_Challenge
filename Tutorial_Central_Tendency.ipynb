{
 "cells": [
  {
   "cell_type": "markdown",
   "metadata": {},
   "source": [
    "# Tutorial Time- Central Tendency"
   ]
  },
  {
   "cell_type": "markdown",
   "metadata": {},
   "source": [
    "This tutorial is based on the provided data and information in Lesson 10, 11 in Bertelsmann Data Science Challenge course<br/>\n",
    "Prepared with love by Gasia Atashian\n"
   ]
  },
  {
   "cell_type": "markdown",
   "metadata": {},
   "source": [
    "In this tutorial we will learn to calculate the MODE, MEAN AND MEDIAN using python codes"
   ]
  },
  {
   "cell_type": "markdown",
   "metadata": {},
   "source": [
    "# Setup, importing libraries"
   ]
  },
  {
   "cell_type": "markdown",
   "metadata": {},
   "source": [
    "<span style=\"color:blue\">\n",
    "import libraries <br/>\n",
    "numpy is the fundamental package for scientific computing with Python <br/>\n",
    "pandas is used for data structures and data analysis tools <br/>\n",
    "scipy is a fundamental library for scientific computing <br/>\n",
    "matplotlib is a plotting library to generate plots <br/>\n",
    "ps: # is used for comments\n",
    "</span>"
   ]
  },
  {
   "cell_type": "code",
   "execution_count": 9,
   "metadata": {},
   "outputs": [],
   "source": [
    "# usually the libraries are imported with a shorter name \n",
    "#(you can use any alias but np, pd and plt are the most common) \n",
    "\n",
    "import numpy as np\n",
    "import pandas as pd\n",
    "from scipy import stats\n",
    "import matplotlib.pyplot as plt\n",
    "\n",
    "# to make the output of plotting commands display inline within jupyter notebook\n",
    "%matplotlib inline  "
   ]
  },
  {
   "cell_type": "markdown",
   "metadata": {},
   "source": [
    "# Mode"
   ]
  },
  {
   "cell_type": "markdown",
   "metadata": {},
   "source": [
    "Mode is the value that occurs the most number of times in the data"
   ]
  },
  {
   "cell_type": "markdown",
   "metadata": {},
   "source": [
    "##### data 1"
   ]
  },
  {
   "cell_type": "code",
   "execution_count": 44,
   "metadata": {},
   "outputs": [],
   "source": [
    "simple_data = np.array([2, 5, 5, 9, 8, 3])"
   ]
  },
  {
   "cell_type": "code",
   "execution_count": 45,
   "metadata": {
    "scrolled": true
   },
   "outputs": [
    {
     "name": "stdout",
     "output_type": "stream",
     "text": [
      "[2 5 5 9 8 3]\n",
      "type of data is <class 'numpy.ndarray'>\n"
     ]
    }
   ],
   "source": [
    "print(simple_data)\n",
    "print('type of data is {}'.format(type(data)))"
   ]
  },
  {
   "cell_type": "markdown",
   "metadata": {},
   "source": [
    "#####  mode calculation"
   ]
  },
  {
   "cell_type": "code",
   "execution_count": 46,
   "metadata": {},
   "outputs": [
    {
     "name": "stdout",
     "output_type": "stream",
     "text": [
      "ModeResult(mode=array([5]), count=array([2]))\n"
     ]
    }
   ],
   "source": [
    "# to calculate the mode, we use mode method of stats library\n",
    "data_mode = stats.mode(simple_data)\n",
    "print(data_mode)"
   ]
  },
  {
   "cell_type": "markdown",
   "metadata": {},
   "source": [
    "note that the method returns the mode and the count of the mode in the data"
   ]
  },
  {
   "cell_type": "markdown",
   "metadata": {},
   "source": [
    "-----------"
   ]
  },
  {
   "cell_type": "markdown",
   "metadata": {},
   "source": [
    "##### data 2"
   ]
  },
  {
   "cell_type": "markdown",
   "metadata": {},
   "source": [
    "et's gnerate a data from normal distribution and calculate the mode"
   ]
  },
  {
   "cell_type": "code",
   "execution_count": 66,
   "metadata": {},
   "outputs": [],
   "source": [
    "mu, sigma = 0, 20 # mean and standard deviation\n",
    "norm_dist_data = np.random.normal(mu, sigma, 1000) #generate 1000 data points form normal distribution with the specified mean and standard deviation"
   ]
  },
  {
   "cell_type": "code",
   "execution_count": 70,
   "metadata": {},
   "outputs": [
    {
     "name": "stdout",
     "output_type": "stream",
     "text": [
      "[ -2.04644343 -20.41245891   8.00832536   3.78710194  35.20561222\n",
      "   2.11831477  37.7693421    9.21734604  11.91717706 -19.72004864]\n"
     ]
    }
   ],
   "source": [
    "print(norm_dist_data[:10]) "
   ]
  },
  {
   "cell_type": "markdown",
   "metadata": {},
   "source": [
    "notice that our data is of float type (not integer)"
   ]
  },
  {
   "cell_type": "code",
   "execution_count": 77,
   "metadata": {},
   "outputs": [
    {
     "data": {
      "image/png": "[encoded data removed]",
      "text/plain": [
       "<matplotlib.figure.Figure at 0x7ffb64d49588>"
      ]
     },
     "metadata": {},
     "output_type": "display_data"
    }
   ],
   "source": [
    "plt.figure(figsize = (15,7))\n",
    "plt.hist(norm_dist_data, 10, normed=True)\n",
    "plt.title('normal distribution histogram')\n",
    "plt.show()"
   ]
  },
  {
   "cell_type": "markdown",
   "metadata": {},
   "source": [
    "##### mode calculation"
   ]
  },
  {
   "cell_type": "code",
   "execution_count": 68,
   "metadata": {},
   "outputs": [
    {
     "name": "stdout",
     "output_type": "stream",
     "text": [
      "ModeResult(mode=array([-63.89506211]), count=array([1]))\n"
     ]
    }
   ],
   "source": [
    "data_mode = stats.mode(norm_dist_data)\n",
    "print(data_mode)"
   ]
  },
  {
   "cell_type": "markdown",
   "metadata": {},
   "source": [
    "we can notice the failure of the stats.mode() to determine the mode.\n",
    "However let's figure out if it is a failure, or if there is no mode"
   ]
  },
  {
   "cell_type": "markdown",
   "metadata": {},
   "source": [
    "we can calculate the frequencies as we did in the last tutorial with the help of Counter method from collections library <br/>\n",
    "we also use .most_common() method, to sort them by descending order\n"
   ]
  },
  {
   "cell_type": "code",
   "execution_count": 71,
   "metadata": {},
   "outputs": [],
   "source": [
    "from collections import Counter"
   ]
  },
  {
   "cell_type": "code",
   "execution_count": 76,
   "metadata": {},
   "outputs": [
    {
     "name": "stdout",
     "output_type": "stream",
     "text": [
      "[(-2.046443426530974, 1), (-20.412458910783688, 1), (8.008325357248744, 1), (3.787101937555786, 1), (35.20561222408591, 1)]\n"
     ]
    }
   ],
   "source": [
    "print(Counter(norm_dist_data).most_common()[:5])"
   ]
  },
  {
   "cell_type": "markdown",
   "metadata": {},
   "source": [
    "We conclude that there is no mode, as the first number in the sorted frequencies occurs only once in the data, each data point is unique"
   ]
  },
  {
   "cell_type": "markdown",
   "metadata": {},
   "source": [
    "but we can define the mode on a range, looking to the graph, the range that occurs with the highest frequency is from almos [-10:5 ] (since we are generating random numbers, you may have different range if you run the code cell by cell, however your answer should include 0)"
   ]
  },
  {
   "cell_type": "markdown",
   "metadata": {},
   "source": [
    "----------------"
   ]
  },
  {
   "cell_type": "markdown",
   "metadata": {},
   "source": [
    "##### data 3"
   ]
  },
  {
   "cell_type": "markdown",
   "metadata": {},
   "source": [
    "let's generate data from two normal distributions with two different means"
   ]
  },
  {
   "cell_type": "code",
   "execution_count": 113,
   "metadata": {},
   "outputs": [],
   "source": [
    "mu, sigma = -10, 5 # mean and standard deviation\n",
    "norm_dist_data_1 = np.random.normal(mu, sigma, 1000) #generate 1000 data points form normal distribution with the specified mean and standard deviation\n",
    "\n",
    "mu, sigma = 10, 5 # mean and standard deviation\n",
    "norm_dist_data_2 = np.random.normal(mu, sigma, 1000) #generate 1000 data points form normal distribution with the specified mean and standard deviation"
   ]
  },
  {
   "cell_type": "markdown",
   "metadata": {},
   "source": [
    "let's concatinated the two data sets, to have one data"
   ]
  },
  {
   "cell_type": "markdown",
   "metadata": {},
   "source": [
    "we use concatinate method of numpy library to concatinate two different nump arrays"
   ]
  },
  {
   "cell_type": "code",
   "execution_count": 114,
   "metadata": {},
   "outputs": [],
   "source": [
    "combined_norm_dist_data = np.concatenate((norm_dist_data_1,norm_dist_data_2))"
   ]
  },
  {
   "cell_type": "markdown",
   "metadata": {},
   "source": [
    "to make sure that we combine the two arrays, let's compare their lengths"
   ]
  },
  {
   "cell_type": "code",
   "execution_count": 115,
   "metadata": {},
   "outputs": [
    {
     "name": "stdout",
     "output_type": "stream",
     "text": [
      "data 1 length is: 1000\n",
      "data 2 length is: 1000\n",
      "combined data length is: 2000\n"
     ]
    }
   ],
   "source": [
    "print('data 1 length is: {}'.format(len(norm_dist_data_1)))\n",
    "print('data 2 length is: {}'.format(len(norm_dist_data_2)))\n",
    "print('combined data length is: {}'.format(len(combined_norm_dist_data)))"
   ]
  },
  {
   "cell_type": "markdown",
   "metadata": {},
   "source": [
    "histogram plot time:"
   ]
  },
  {
   "cell_type": "code",
   "execution_count": 116,
   "metadata": {},
   "outputs": [
    {
     "data": {
      "image/png": "[encoded data removed]",
      "text/plain": [
       "<matplotlib.figure.Figure at 0x7ffb65292dd8>"
      ]
     },
     "metadata": {},
     "output_type": "display_data"
    }
   ],
   "source": [
    "plt.figure(figsize = (15,7))\n",
    "plt.hist(combined_norm_dist_data, 10, normed=True)\n",
    "plt.title('normal distribution histogram')\n",
    "plt.show()"
   ]
  },
  {
   "cell_type": "markdown",
   "metadata": {},
   "source": [
    "#####  mode calculation"
   ]
  },
  {
   "cell_type": "markdown",
   "metadata": {},
   "source": [
    "same logic as above example, we have real values we can't calculate the mode using scipy.mode() method, but we can give mode range approximation, for this data we can notice that we have two mode ranges one range is around 10, the other range is around -10. We call this data  **bimodal **; which means the data has two modes."
   ]
  },
  {
   "cell_type": "markdown",
   "metadata": {},
   "source": [
    "------------------"
   ]
  },
  {
   "cell_type": "markdown",
   "metadata": {},
   "source": [
    "# Mean"
   ]
  },
  {
   "cell_type": "markdown",
   "metadata": {},
   "source": [
    "mean is the average of the all values, the formula to calculate the mean is to sum all the values and divide the sum by the number of values"
   ]
  },
  {
   "cell_type": "markdown",
   "metadata": {},
   "source": [
    "##### data"
   ]
  },
  {
   "cell_type": "markdown",
   "metadata": {},
   "source": [
    "this data is taken from lesson 10 section 11"
   ]
  },
  {
   "cell_type": "code",
   "execution_count": 135,
   "metadata": {},
   "outputs": [],
   "source": [
    "nursing_data = np.array([58350, 63120, 44640, 56380, 72250])\n",
    "geography_data = np.array([48670, 57320, 38150, 41290, 53160])"
   ]
  },
  {
   "cell_type": "markdown",
   "metadata": {},
   "source": [
    "let's make a dataframe for data visualization, but we will use the numpy arrays for calculations"
   ]
  },
  {
   "cell_type": "code",
   "execution_count": 136,
   "metadata": {},
   "outputs": [
    {
     "data": {
      "text/html": [
       "<div>\n",
       "<style scoped>\n",
       "    .dataframe tbody tr th:only-of-type {\n",
       "        vertical-align: middle;\n",
       "    }\n",
       "\n",
       "    .dataframe tbody tr th {\n",
       "        vertical-align: top;\n",
       "    }\n",
       "\n",
       "    .dataframe thead th {\n",
       "        text-align: right;\n",
       "    }\n",
       "</style>\n",
       "<table border=\"1\" class=\"dataframe\">\n",
       "  <thead>\n",
       "    <tr style=\"text-align: right;\">\n",
       "      <th></th>\n",
       "      <th>Geography</th>\n",
       "      <th>Nursing</th>\n",
       "    </tr>\n",
       "  </thead>\n",
       "  <tbody>\n",
       "    <tr>\n",
       "      <th>0</th>\n",
       "      <td>48670</td>\n",
       "      <td>58350</td>\n",
       "    </tr>\n",
       "    <tr>\n",
       "      <th>1</th>\n",
       "      <td>57320</td>\n",
       "      <td>63120</td>\n",
       "    </tr>\n",
       "    <tr>\n",
       "      <th>2</th>\n",
       "      <td>38150</td>\n",
       "      <td>44640</td>\n",
       "    </tr>\n",
       "    <tr>\n",
       "      <th>3</th>\n",
       "      <td>41290</td>\n",
       "      <td>56380</td>\n",
       "    </tr>\n",
       "    <tr>\n",
       "      <th>4</th>\n",
       "      <td>53160</td>\n",
       "      <td>72250</td>\n",
       "    </tr>\n",
       "  </tbody>\n",
       "</table>\n",
       "</div>"
      ],
      "text/plain": [
       "   Geography  Nursing\n",
       "0      48670    58350\n",
       "1      57320    63120\n",
       "2      38150    44640\n",
       "3      41290    56380\n",
       "4      53160    72250"
      ]
     },
     "execution_count": 136,
     "metadata": {},
     "output_type": "execute_result"
    }
   ],
   "source": [
    "pd.DataFrame({'Nursing':nursing_data, 'Geography': geography_data})"
   ]
  },
  {
   "cell_type": "markdown",
   "metadata": {},
   "source": [
    "#####  mean calculation"
   ]
  },
  {
   "cell_type": "markdown",
   "metadata": {},
   "source": [
    "we can use mean method of numpy library to calculate the mean"
   ]
  },
  {
   "cell_type": "code",
   "execution_count": 150,
   "metadata": {},
   "outputs": [
    {
     "name": "stdout",
     "output_type": "stream",
     "text": [
      "nursing data mean is 58948.0\n",
      "geography data mean is 47718.0\n"
     ]
    }
   ],
   "source": [
    "mean_nursing = np.mean(nursing_data)\n",
    "mean_geography = np.mean(geography_data)\n",
    "print('nursing data mean is {}'.format(mean_nursing))\n",
    "print('geography data mean is {}'.format(mean_geography))"
   ]
  },
  {
   "cell_type": "markdown",
   "metadata": {},
   "source": [
    "we could also calculate the mean by summing the values and dividing by the number of values:"
   ]
  },
  {
   "cell_type": "code",
   "execution_count": 151,
   "metadata": {},
   "outputs": [
    {
     "name": "stdout",
     "output_type": "stream",
     "text": [
      "nursing data mean is 58948.0\n",
      "geography data mean is 47718.0\n"
     ]
    }
   ],
   "source": [
    "mean_nursing = np.sum(nursing_data)/ len(nursing_data)\n",
    "mean_geography = np.sum(geography_data)/len(geography_data)\n",
    "print('nursing data mean is {}'.format(mean_nursing))\n",
    "print('geography data mean is {}'.format(mean_geography))"
   ]
  },
  {
   "cell_type": "markdown",
   "metadata": {},
   "source": [
    "Yey we got the same results!"
   ]
  },
  {
   "cell_type": "markdown",
   "metadata": {},
   "source": [
    "----------"
   ]
  },
  {
   "cell_type": "markdown",
   "metadata": {},
   "source": [
    "# Median"
   ]
  },
  {
   "cell_type": "markdown",
   "metadata": {},
   "source": [
    "is the middle value of the data"
   ]
  },
  {
   "cell_type": "markdown",
   "metadata": {},
   "source": [
    "##### data"
   ]
  },
  {
   "cell_type": "markdown",
   "metadata": {},
   "source": [
    "let's use the same data as above"
   ]
  },
  {
   "cell_type": "code",
   "execution_count": 152,
   "metadata": {},
   "outputs": [],
   "source": [
    "nursing_data = np.array([58350, 63120, 44640, 56380, 72250])\n",
    "geography_data = np.array([48670, 57320, 38150, 41290, 53160])"
   ]
  },
  {
   "cell_type": "markdown",
   "metadata": {},
   "source": [
    "#####  median calculation"
   ]
  },
  {
   "cell_type": "code",
   "execution_count": 153,
   "metadata": {},
   "outputs": [
    {
     "data": {
      "text/plain": [
       "58350.0"
      ]
     },
     "execution_count": 153,
     "metadata": {},
     "output_type": "execute_result"
    }
   ],
   "source": [
    "np.median(nursing_data)"
   ]
  },
  {
   "cell_type": "markdown",
   "metadata": {},
   "source": [
    "we can use median method of numpy library to calculate the mean"
   ]
  },
  {
   "cell_type": "code",
   "execution_count": 154,
   "metadata": {},
   "outputs": [
    {
     "name": "stdout",
     "output_type": "stream",
     "text": [
      "nursing data median is 58350.0\n",
      "geography data mean is 48670.0\n"
     ]
    }
   ],
   "source": [
    "median_nursing = np.median(nursing_data)\n",
    "median_geography = np.median(geography_data)\n",
    "print('nursing data median is {}'.format(median_nursing))\n",
    "print('geography data mean is {}'.format(median_geography))"
   ]
  },
  {
   "cell_type": "markdown",
   "metadata": {},
   "source": [
    "----------------"
   ]
  },
  {
   "cell_type": "markdown",
   "metadata": {},
   "source": [
    "---------------------"
   ]
  },
  {
   "cell_type": "markdown",
   "metadata": {},
   "source": [
    "# Practice using Facebook Friends poll Data"
   ]
  },
  {
   "cell_type": "markdown",
   "metadata": {},
   "source": [
    "I downloaded the facebook friends data as a csv format from the provided link: https://docs.google.com/spreadsheets/d/1g5z8vcrMmvsivvBFzjV3ccnDXi4bWWYY4UYqcOnUgAk/edit#gid=0"
   ]
  },
  {
   "cell_type": "markdown",
   "metadata": {},
   "source": [
    "we will read the csv file and do experiments on"
   ]
  },
  {
   "cell_type": "markdown",
   "metadata": {},
   "source": [
    "to read a csv file we use the read_csv method of pandas library"
   ]
  },
  {
   "cell_type": "code",
   "execution_count": 188,
   "metadata": {},
   "outputs": [],
   "source": [
    "# we have a timestamp column in our data, we use parse_dates so that python interpret the Timestamp column as a date\n",
    "faceboo_df = pd.read_csv('./data/Facebook_friends.csv', parse_dates=(['Timestamp']))"
   ]
  },
  {
   "cell_type": "code",
   "execution_count": 189,
   "metadata": {},
   "outputs": [
    {
     "data": {
      "text/html": [
       "<div>\n",
       "<style scoped>\n",
       "    .dataframe tbody tr th:only-of-type {\n",
       "        vertical-align: middle;\n",
       "    }\n",
       "\n",
       "    .dataframe tbody tr th {\n",
       "        vertical-align: top;\n",
       "    }\n",
       "\n",
       "    .dataframe thead th {\n",
       "        text-align: right;\n",
       "    }\n",
       "</style>\n",
       "<table border=\"1\" class=\"dataframe\">\n",
       "  <thead>\n",
       "    <tr style=\"text-align: right;\">\n",
       "      <th></th>\n",
       "      <th>Timestamp</th>\n",
       "      <th>How many Facebook friends do you have?</th>\n",
       "    </tr>\n",
       "  </thead>\n",
       "  <tbody>\n",
       "    <tr>\n",
       "      <th>0</th>\n",
       "      <td>2013-01-02 16:59:06</td>\n",
       "      <td>0</td>\n",
       "    </tr>\n",
       "    <tr>\n",
       "      <th>1</th>\n",
       "      <td>2013-01-02 15:20:50</td>\n",
       "      <td>69</td>\n",
       "    </tr>\n",
       "    <tr>\n",
       "      <th>2</th>\n",
       "      <td>2013-01-02 16:16:51</td>\n",
       "      <td>123</td>\n",
       "    </tr>\n",
       "    <tr>\n",
       "      <th>3</th>\n",
       "      <td>2013-01-02 18:14:04</td>\n",
       "      <td>137</td>\n",
       "    </tr>\n",
       "    <tr>\n",
       "      <th>4</th>\n",
       "      <td>2013-01-02 20:04:27</td>\n",
       "      <td>174</td>\n",
       "    </tr>\n",
       "  </tbody>\n",
       "</table>\n",
       "</div>"
      ],
      "text/plain": [
       "            Timestamp  How many Facebook friends do you have?\n",
       "0 2013-01-02 16:59:06                                       0\n",
       "1 2013-01-02 15:20:50                                      69\n",
       "2 2013-01-02 16:16:51                                     123\n",
       "3 2013-01-02 18:14:04                                     137\n",
       "4 2013-01-02 20:04:27                                     174"
      ]
     },
     "execution_count": 189,
     "metadata": {},
     "output_type": "execute_result"
    }
   ],
   "source": [
    "faceboo_df.head()"
   ]
  },
  {
   "cell_type": "markdown",
   "metadata": {},
   "source": [
    "it is inconvenient to have long column name, as everythime we need to access that column we should write a long name.\n",
    "so let's change the column name to #friends, meaning number of friends"
   ]
  },
  {
   "cell_type": "code",
   "execution_count": 190,
   "metadata": {},
   "outputs": [],
   "source": [
    "faceboo_df = faceboo_df.rename(columns = {'How many Facebook friends do you have?':'#friends'})"
   ]
  },
  {
   "cell_type": "code",
   "execution_count": 191,
   "metadata": {},
   "outputs": [
    {
     "data": {
      "text/html": [
       "<div>\n",
       "<style scoped>\n",
       "    .dataframe tbody tr th:only-of-type {\n",
       "        vertical-align: middle;\n",
       "    }\n",
       "\n",
       "    .dataframe tbody tr th {\n",
       "        vertical-align: top;\n",
       "    }\n",
       "\n",
       "    .dataframe thead th {\n",
       "        text-align: right;\n",
       "    }\n",
       "</style>\n",
       "<table border=\"1\" class=\"dataframe\">\n",
       "  <thead>\n",
       "    <tr style=\"text-align: right;\">\n",
       "      <th></th>\n",
       "      <th>Timestamp</th>\n",
       "      <th>#friends</th>\n",
       "    </tr>\n",
       "  </thead>\n",
       "  <tbody>\n",
       "    <tr>\n",
       "      <th>0</th>\n",
       "      <td>2013-01-02 16:59:06</td>\n",
       "      <td>0</td>\n",
       "    </tr>\n",
       "    <tr>\n",
       "      <th>1</th>\n",
       "      <td>2013-01-02 15:20:50</td>\n",
       "      <td>69</td>\n",
       "    </tr>\n",
       "    <tr>\n",
       "      <th>2</th>\n",
       "      <td>2013-01-02 16:16:51</td>\n",
       "      <td>123</td>\n",
       "    </tr>\n",
       "    <tr>\n",
       "      <th>3</th>\n",
       "      <td>2013-01-02 18:14:04</td>\n",
       "      <td>137</td>\n",
       "    </tr>\n",
       "    <tr>\n",
       "      <th>4</th>\n",
       "      <td>2013-01-02 20:04:27</td>\n",
       "      <td>174</td>\n",
       "    </tr>\n",
       "  </tbody>\n",
       "</table>\n",
       "</div>"
      ],
      "text/plain": [
       "            Timestamp  #friends\n",
       "0 2013-01-02 16:59:06         0\n",
       "1 2013-01-02 15:20:50        69\n",
       "2 2013-01-02 16:16:51       123\n",
       "3 2013-01-02 18:14:04       137\n",
       "4 2013-01-02 20:04:27       174"
      ]
     },
     "execution_count": 191,
     "metadata": {},
     "output_type": "execute_result"
    }
   ],
   "source": [
    "faceboo_df.head() #much better"
   ]
  },
  {
   "cell_type": "code",
   "execution_count": 192,
   "metadata": {},
   "outputs": [
    {
     "data": {
      "text/plain": [
       "array([   0,   69,  123,  137,  174,  240,  241,  256,  258,  322,  366,\n",
       "        376,  408,  479,  555,  589,  600,  777,  784,  822,  850,  863,\n",
       "       1116, 1143, 1214, 1250, 1776])"
      ]
     },
     "execution_count": 192,
     "metadata": {},
     "output_type": "execute_result"
    }
   ],
   "source": [
    "faceboo_df['#friends'].values\n",
    "#notice that the values type is not integer, let's convert them to integer type"
   ]
  },
  {
   "cell_type": "code",
   "execution_count": 194,
   "metadata": {},
   "outputs": [
    {
     "data": {
      "text/plain": [
       "Timestamp    datetime64[ns]\n",
       "#friends              int64\n",
       "dtype: object"
      ]
     },
     "execution_count": 194,
     "metadata": {},
     "output_type": "execute_result"
    }
   ],
   "source": [
    "# to get the type of each column\n",
    "faceboo_df.dtypes"
   ]
  },
  {
   "cell_type": "code",
   "execution_count": 207,
   "metadata": {},
   "outputs": [
    {
     "data": {
      "image/png": "[encoded data removed]",
      "text/plain": [
       "<matplotlib.figure.Figure at 0x7ffb6307b2b0>"
      ]
     },
     "metadata": {},
     "output_type": "display_data"
    }
   ],
   "source": [
    "plt.figure(figsize = (15,7))\n",
    "plt.hist(faceboo_df['#friends'], bins = 15)\n",
    "plt.xlabel('#friends')\n",
    "plt.ylabel('frequency')\n",
    "plt\n",
    "plt.show()"
   ]
  },
  {
   "cell_type": "markdown",
   "metadata": {},
   "source": [
    "#### now let's calculate the mean, median and mode of #friends"
   ]
  },
  {
   "cell_type": "code",
   "execution_count": 198,
   "metadata": {},
   "outputs": [],
   "source": [
    "mean_friends = np.mean(faceboo_df['#friends'].values)\n",
    "median_friends = np.median(faceboo_df['#friends'].values)\n",
    "mode_friends = stats.mode(faceboo_df['#friends'].values)"
   ]
  },
  {
   "cell_type": "code",
   "execution_count": 199,
   "metadata": {},
   "outputs": [
    {
     "name": "stdout",
     "output_type": "stream",
     "text": [
      "facebook friends mean is 584.7407407407408\n",
      "facebook friends median is 479.0\n",
      "facebook friends mode is ModeResult(mode=array([0]), count=array([1]))\n"
     ]
    }
   ],
   "source": [
    "print('facebook friends mean is {}'.format(mean_friends))\n",
    "print('facebook friends median is {}'.format(median_friends))\n",
    "print('facebook friends mode is {}'.format(mode_friends))"
   ]
  },
  {
   "cell_type": "markdown",
   "metadata": {},
   "source": [
    "------------------------------------"
   ]
  },
  {
   "cell_type": "markdown",
   "metadata": {},
   "source": [
    "# THE END\n",
    "# GASIA ATASHIAN"
   ]
  }
 ],
 "metadata": {
  "kernelspec": {
   "display_name": "Python 3",
   "language": "python",
   "name": "python3"
  },
  "language_info": {
   "codemirror_mode": {
    "name": "ipython",
    "version": 3
   },
   "file_extension": ".py",
   "mimetype": "text/x-python",
   "name": "python",
   "nbconvert_exporter": "python",
   "pygments_lexer": "ipython3",
   "version": "3.6.4"
  }
 },
 "nbformat": 4,
 "nbformat_minor": 2
}
