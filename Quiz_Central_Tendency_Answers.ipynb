{
 "cells": [
  {
   "cell_type": "markdown",
   "metadata": {},
   "source": [
    "# Quiz Time- Central Tendency Answers"
   ]
  },
  {
   "cell_type": "markdown",
   "metadata": {},
   "source": [
    "Using Central Tendency tutorial try to solve the following quiz<br/>\n",
    "This quiz is based on the provided data and information in Lesson 12 in Bertelsmann Data Science Challenge course\n",
    " <br/>\n",
    " Prepared with love by Gasia Atashian <br/>\n",
    "```diff \n",
    "- red text is for question\n",
    "+ green is for hint\n",
    "@ purple is for step by step \n",
    "``` \n",
    "\n",
    "#### You should complete the places where you find #TODO"
   ]
  },
  {
   "cell_type": "markdown",
   "metadata": {},
   "source": [
    "# Lesson 12"
   ]
  },
  {
   "cell_type": "markdown",
   "metadata": {},
   "source": [
    "# Setup"
   ]
  },
  {
   "cell_type": "markdown",
   "metadata": {},
   "source": [
    "```diff \n",
    "-import the following libraries: numpy, pandas, stats from scipy, Counter from collections \n",
    "```"
   ]
  },
  {
   "cell_type": "code",
   "execution_count": 1,
   "metadata": {},
   "outputs": [],
   "source": [
    "#TODO\n",
    "import numpy as np\n",
    "import pandas as pd\n",
    "from scipy import stats\n",
    "from collections import Counter"
   ]
  },
  {
   "cell_type": "markdown",
   "metadata": {},
   "source": [
    "### Deal or No Deal data"
   ]
  },
  {
   "cell_type": "markdown",
   "metadata": {},
   "source": [
    "The data has been downloaded as a csv format from the provided link: <br/>\n",
    "    https://docs.google.com/spreadsheets/d/1xC1rw25rA-ViGSgFOuJlGgvsmkBmsMXQNJ9obqY7BAI/edit#gid=0"
   ]
  },
  {
   "cell_type": "code",
   "execution_count": 2,
   "metadata": {},
   "outputs": [
    {
     "data": {
      "text/html": [
       "<div>\n",
       "<style scoped>\n",
       "    .dataframe tbody tr th:only-of-type {\n",
       "        vertical-align: middle;\n",
       "    }\n",
       "\n",
       "    .dataframe tbody tr th {\n",
       "        vertical-align: top;\n",
       "    }\n",
       "\n",
       "    .dataframe thead th {\n",
       "        text-align: right;\n",
       "    }\n",
       "</style>\n",
       "<table border=\"1\" class=\"dataframe\">\n",
       "  <thead>\n",
       "    <tr style=\"text-align: right;\">\n",
       "      <th></th>\n",
       "      <th>prize</th>\n",
       "    </tr>\n",
       "  </thead>\n",
       "  <tbody>\n",
       "    <tr>\n",
       "      <th>0</th>\n",
       "      <td>0.01</td>\n",
       "    </tr>\n",
       "    <tr>\n",
       "      <th>1</th>\n",
       "      <td>1.00</td>\n",
       "    </tr>\n",
       "    <tr>\n",
       "      <th>2</th>\n",
       "      <td>5.00</td>\n",
       "    </tr>\n",
       "    <tr>\n",
       "      <th>3</th>\n",
       "      <td>10.00</td>\n",
       "    </tr>\n",
       "    <tr>\n",
       "      <th>4</th>\n",
       "      <td>25.00</td>\n",
       "    </tr>\n",
       "  </tbody>\n",
       "</table>\n",
       "</div>"
      ],
      "text/plain": [
       "   prize\n",
       "0   0.01\n",
       "1   1.00\n",
       "2   5.00\n",
       "3  10.00\n",
       "4  25.00"
      ]
     },
     "execution_count": 2,
     "metadata": {},
     "output_type": "execute_result"
    }
   ],
   "source": [
    "data_df = pd.read_csv('./data/Deal_or_No_Deal.csv')\n",
    "data_df.columns = ['prize']\n",
    "data_df.head()"
   ]
  },
  {
   "cell_type": "markdown",
   "metadata": {},
   "source": [
    "# Mean, Median, Mode"
   ]
  },
  {
   "cell_type": "markdown",
   "metadata": {},
   "source": [
    "```diff \n",
    "-Calculate the mean, median and mode\n",
    "-Assign them to the following variables: mean_data, median_data, mode_data\n",
    "```"
   ]
  },
  {
   "cell_type": "markdown",
   "metadata": {},
   "source": [
    "```diff \n",
    "+to access prize column in the data, you can write data['prize']\n",
    "+remember that numpy has mean and median functions\n",
    "+remember that stats has mode function\n",
    "```"
   ]
  },
  {
   "cell_type": "markdown",
   "metadata": {},
   "source": [
    "```diff \n",
    "@ Start by using numpy mean function to calculate the mean and assign the result to mean_data variable \n",
    "```"
   ]
  },
  {
   "cell_type": "code",
   "execution_count": 3,
   "metadata": {},
   "outputs": [],
   "source": [
    "#TODO\n",
    "mean_data = np.mean(data_df['prize'])"
   ]
  },
  {
   "cell_type": "code",
   "execution_count": 4,
   "metadata": {},
   "outputs": [
    {
     "name": "stdout",
     "output_type": "stream",
     "text": [
      "The mean is 131477.53884615382\n"
     ]
    }
   ],
   "source": [
    "print('The mean is {}'.format(mean_data)) #run this after completing the last TODO to see the result"
   ]
  },
  {
   "cell_type": "markdown",
   "metadata": {},
   "source": [
    "```diff \n",
    "@ Using numpy median function calculate the median and assign the result to median_data variable \n",
    "```"
   ]
  },
  {
   "cell_type": "code",
   "execution_count": 5,
   "metadata": {},
   "outputs": [],
   "source": [
    "#TODO\n",
    "median_data = np.median(data_df['prize'])"
   ]
  },
  {
   "cell_type": "code",
   "execution_count": 6,
   "metadata": {},
   "outputs": [
    {
     "name": "stdout",
     "output_type": "stream",
     "text": [
      "The median is 875.0\n"
     ]
    }
   ],
   "source": [
    "print('The median is {}'.format(median_data)) #run this after completing the last TODO to see the result"
   ]
  },
  {
   "cell_type": "markdown",
   "metadata": {},
   "source": [
    "```diff \n",
    "@ Using stats mode function calculate the mode and assign the result to mode_data variable \n",
    "```"
   ]
  },
  {
   "cell_type": "code",
   "execution_count": 7,
   "metadata": {},
   "outputs": [],
   "source": [
    "#TODO\n",
    "mode_data = stats.mode(data_df['prize'])"
   ]
  },
  {
   "cell_type": "code",
   "execution_count": 8,
   "metadata": {},
   "outputs": [
    {
     "name": "stdout",
     "output_type": "stream",
     "text": [
      "The mode is ModeResult(mode=array([0.01]), count=array([1]))\n"
     ]
    }
   ],
   "source": [
    "print('The mode is {}'.format(mode_data)) #run this after completing the last TODO to see the result"
   ]
  },
  {
   "cell_type": "markdown",
   "metadata": {},
   "source": [
    "##### Are you sure that was the mode?\n",
    "```diff \n",
    "-Calculate the frequency of the prize and sort them by descending order\n",
    "```"
   ]
  },
  {
   "cell_type": "markdown",
   "metadata": {},
   "source": [
    "```diff \n",
    "@ Using Counter calculate the frequency, and use most_common method to sort by descending order\n",
    "```"
   ]
  },
  {
   "cell_type": "code",
   "execution_count": 9,
   "metadata": {},
   "outputs": [],
   "source": [
    "#TODO\n",
    "data_frequency = Counter(data_df['prize']).most_common()"
   ]
  },
  {
   "cell_type": "code",
   "execution_count": 10,
   "metadata": {},
   "outputs": [
    {
     "data": {
      "text/plain": [
       "[(0.01, 1),\n",
       " (1.0, 1),\n",
       " (5.0, 1),\n",
       " (10.0, 1),\n",
       " (25.0, 1),\n",
       " (50.0, 1),\n",
       " (75.0, 1),\n",
       " (100.0, 1),\n",
       " (200.0, 1),\n",
       " (300.0, 1),\n",
       " (400.0, 1),\n",
       " (500.0, 1),\n",
       " (750.0, 1),\n",
       " (1000.0, 1),\n",
       " (5000.0, 1),\n",
       " (10000.0, 1),\n",
       " (25000.0, 1),\n",
       " (50000.0, 1),\n",
       " (75000.0, 1),\n",
       " (100000.0, 1),\n",
       " (200000.0, 1),\n",
       " (300000.0, 1),\n",
       " (400000.0, 1),\n",
       " (500000.0, 1),\n",
       " (750000.0, 1),\n",
       " (1000000.0, 1)]"
      ]
     },
     "execution_count": 10,
     "metadata": {},
     "output_type": "execute_result"
    }
   ],
   "source": [
    "data_frequency #run this after completing the last TODO to see the result"
   ]
  },
  {
   "cell_type": "markdown",
   "metadata": {},
   "source": [
    "# Analysis"
   ]
  },
  {
   "cell_type": "markdown",
   "metadata": {},
   "source": [
    "```diff \n",
    "-How many prizes are less than the median?\n",
    "-How many prizes are more than the median?\n",
    "```"
   ]
  },
  {
   "cell_type": "markdown",
   "metadata": {},
   "source": [
    "```diff \n",
    "@ Compare with less than operator the prize with the median_data variable, then use numpy sum function to     know the total number of True values. Assign the value to less_median variable\n",
    "```"
   ]
  },
  {
   "cell_type": "code",
   "execution_count": 11,
   "metadata": {},
   "outputs": [],
   "source": [
    "#TODO\n",
    "less_median = np.sum(data_df['prize'] < median_data)"
   ]
  },
  {
   "cell_type": "code",
   "execution_count": 12,
   "metadata": {},
   "outputs": [
    {
     "name": "stdout",
     "output_type": "stream",
     "text": [
      "13 prizes are less than the median\n"
     ]
    }
   ],
   "source": [
    "print('{} prizes are less than the median'.format(less_median)) #run this after completing the last TODO to see the result"
   ]
  },
  {
   "cell_type": "markdown",
   "metadata": {},
   "source": [
    "```diff \n",
    "@ Compare with more than operator the prize with the median_data variable, then use numpy sum function to     know the total number of True values. Assign the value to more_median variable\n",
    "```"
   ]
  },
  {
   "cell_type": "code",
   "execution_count": 13,
   "metadata": {},
   "outputs": [],
   "source": [
    "#TODO\n",
    "more_median = np.sum(data_df['prize'] > median_data)"
   ]
  },
  {
   "cell_type": "code",
   "execution_count": 14,
   "metadata": {},
   "outputs": [
    {
     "name": "stdout",
     "output_type": "stream",
     "text": [
      "13 prizes are more than the median\n"
     ]
    }
   ],
   "source": [
    "print('{} prizes are more than the median'.format(more_median)) #run this after completing the last TODO to see the result"
   ]
  },
  {
   "cell_type": "markdown",
   "metadata": {},
   "source": [
    "-------------------------"
   ]
  },
  {
   "cell_type": "markdown",
   "metadata": {},
   "source": [
    "----------------"
   ]
  },
  {
   "cell_type": "markdown",
   "metadata": {},
   "source": [
    "# SOLVED QUESTION FOR YOU TO LEARN"
   ]
  },
  {
   "cell_type": "markdown",
   "metadata": {},
   "source": [
    "![Drag Racing](./data/deal.jpg)"
   ]
  },
  {
   "cell_type": "markdown",
   "metadata": {},
   "source": [
    "Assign the data to a divided 500 bin size values;  0 to 499, 500 to 999 .... <br/>\n",
    "calculate the frequency of each range, and see which range got the higher frequency"
   ]
  },
  {
   "cell_type": "code",
   "execution_count": 15,
   "metadata": {},
   "outputs": [],
   "source": [
    "data_df['bins_500'] = pd.cut(data_df['prize'], range(0, int(np.max(data_df['prize']) +1000), 500), right=False)"
   ]
  },
  {
   "cell_type": "code",
   "execution_count": 16,
   "metadata": {},
   "outputs": [
    {
     "data": {
      "text/plain": [
       "[(Interval(0, 500, closed='left'), 11),\n",
       " (Interval(500, 1000, closed='left'), 2),\n",
       " (Interval(1000, 1500, closed='left'), 1),\n",
       " (Interval(5000, 5500, closed='left'), 1),\n",
       " (Interval(10000, 10500, closed='left'), 1),\n",
       " (Interval(25000, 25500, closed='left'), 1),\n",
       " (Interval(50000, 50500, closed='left'), 1),\n",
       " (Interval(75000, 75500, closed='left'), 1),\n",
       " (Interval(100000, 100500, closed='left'), 1),\n",
       " (Interval(200000, 200500, closed='left'), 1),\n",
       " (Interval(300000, 300500, closed='left'), 1),\n",
       " (Interval(400000, 400500, closed='left'), 1),\n",
       " (Interval(500000, 500500, closed='left'), 1),\n",
       " (Interval(750000, 750500, closed='left'), 1),\n",
       " (Interval(1000000, 1000500, closed='left'), 1)]"
      ]
     },
     "execution_count": 16,
     "metadata": {},
     "output_type": "execute_result"
    }
   ],
   "source": [
    "Counter(data_df['bins_500'].values).most_common()"
   ]
  },
  {
   "cell_type": "markdown",
   "metadata": {},
   "source": [
    "Based on our calculation, the answer would be: (0-499) with a frequency of 11"
   ]
  },
  {
   "cell_type": "markdown",
   "metadata": {},
   "source": [
    "# THE END\n",
    "### GASIA ATASHIAN"
   ]
  }
 ],
 "metadata": {
  "kernelspec": {
   "display_name": "Python 3",
   "language": "python",
   "name": "python3"
  },
  "language_info": {
   "codemirror_mode": {
    "name": "ipython",
    "version": 3
   },
   "file_extension": ".py",
   "mimetype": "text/x-python",
   "name": "python",
   "nbconvert_exporter": "python",
   "pygments_lexer": "ipython3",
   "version": "3.6.4"
  }
 },
 "nbformat": 4,
 "nbformat_minor": 2
}
